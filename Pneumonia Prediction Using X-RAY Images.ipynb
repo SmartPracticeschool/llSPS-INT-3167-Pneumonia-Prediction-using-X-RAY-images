{
 "cells": [
  {
   "cell_type": "code",
   "execution_count": 1,
   "metadata": {},
   "outputs": [],
   "source": [
    "#import libraries\n",
    "import numpy as np\n",
    "import pandas as pd"
   ]
  },
  {
   "cell_type": "code",
   "execution_count": 2,
   "metadata": {},
   "outputs": [
    {
     "name": "stderr",
     "output_type": "stream",
     "text": [
      "Using TensorFlow backend.\n"
     ]
    }
   ],
   "source": [
    "#import imagedatagenerator\n",
    "from keras.preprocessing.image import ImageDataGenerator"
   ]
  },
  {
   "cell_type": "code",
   "execution_count": 3,
   "metadata": {},
   "outputs": [],
   "source": [
    "#define parameter for train and tessst set\n",
    "train_data = ImageDataGenerator(featurewise_center=False, samplewise_center=False,  \n",
    "        featurewise_std_normalization=False,  samplewise_std_normalization=False,  \n",
    "        zca_whitening=False,  rotation_range=0,   zoom_range = 0.1,  width_shift_range=0.1, \n",
    "        height_shift_range=0.1,  horizontal_flip=False,   vertical_flip=False)  \n",
    "test_data = ImageDataGenerator(rescale=1./255,shear_range=0.2,zoom_range=0.2 , horizontal_flip=True)"
   ]
  },
  {
   "cell_type": "code",
   "execution_count": 4,
   "metadata": {},
   "outputs": [
    {
     "name": "stdout",
     "output_type": "stream",
     "text": [
      "Found 5216 images belonging to 2 classes.\n",
      "Found 624 images belonging to 2 classes.\n"
     ]
    }
   ],
   "source": [
    "#applying\n",
    "x_train = train_data.flow_from_directory(r'dataset/train',target_size=(64,64),batch_size=32,class_mode='binary')\n",
    "x_test = train_data.flow_from_directory(r'dataset/test',target_size=(64,64),batch_size=32,class_mode='binary')"
   ]
  },
  {
   "cell_type": "code",
   "execution_count": 13,
   "metadata": {},
   "outputs": [
    {
     "name": "stdout",
     "output_type": "stream",
     "text": [
      "{'NORMAL': 0, 'PNEUMONIA': 1}\n"
     ]
    }
   ],
   "source": [
    "print(x_train.class_indices)"
   ]
  },
  {
   "cell_type": "code",
   "execution_count": 5,
   "metadata": {},
   "outputs": [],
   "source": [
    "#importing the model buliding libraries\n",
    "from keras.models import Sequential\n",
    "from keras.layers import Dense , Convolution2D, Flatten ,MaxPooling2D ,Dropout"
   ]
  },
  {
   "cell_type": "code",
   "execution_count": 6,
   "metadata": {},
   "outputs": [],
   "source": [
    "#initia. the model \n",
    "model = Sequential()"
   ]
  },
  {
   "cell_type": "code",
   "execution_count": 7,
   "metadata": {},
   "outputs": [],
   "source": [
    "#add the convolution 2d layer\n",
    "model.add(Convolution2D(32,(3,3),input_shape = (64,64,3),activation='relu'))"
   ]
  },
  {
   "cell_type": "code",
   "execution_count": 8,
   "metadata": {},
   "outputs": [],
   "source": [
    "model.add(MaxPooling2D(pool_size=(2,2)))"
   ]
  },
  {
   "cell_type": "code",
   "execution_count": 9,
   "metadata": {},
   "outputs": [],
   "source": [
    "model.add(Flatten()) #input layer"
   ]
  },
  {
   "cell_type": "code",
   "execution_count": 10,
   "metadata": {},
   "outputs": [
    {
     "name": "stderr",
     "output_type": "stream",
     "text": [
      "C:\\Users\\kanan\\Anaconda3\\lib\\site-packages\\ipykernel_launcher.py:2: UserWarning: Update your `Dense` call to the Keras 2 API: `Dense(units=128, activation=\"relu\", kernel_initializer=\"uniform\")`\n",
      "  \n",
      "C:\\Users\\kanan\\Anaconda3\\lib\\site-packages\\ipykernel_launcher.py:4: UserWarning: Update your `Dense` call to the Keras 2 API: `Dense(units=64, activation=\"relu\", kernel_initializer=\"uniform\")`\n",
      "  after removing the cwd from sys.path.\n",
      "C:\\Users\\kanan\\Anaconda3\\lib\\site-packages\\ipykernel_launcher.py:6: UserWarning: Update your `Dense` call to the Keras 2 API: `Dense(units=32, activation=\"relu\", kernel_initializer=\"uniform\")`\n",
      "  \n"
     ]
    }
   ],
   "source": [
    "#hidden layer->1\n",
    "model.add(Dense(units=128,init = 'uniform',activation='relu'))\n",
    "#hidden layer ->2\n",
    "model.add(Dense(units=64,init = 'uniform',activation='relu'))\n",
    "#hidden layer->3\n",
    "model.add(Dense(units=32,init = 'uniform',activation='relu'))\n"
   ]
  },
  {
   "cell_type": "code",
   "execution_count": 11,
   "metadata": {},
   "outputs": [
    {
     "name": "stderr",
     "output_type": "stream",
     "text": [
      "C:\\Users\\kanan\\Anaconda3\\lib\\site-packages\\ipykernel_launcher.py:1: UserWarning: Update your `Dense` call to the Keras 2 API: `Dense(units=1, activation=\"sigmoid\", kernel_initializer=\"uniform\")`\n",
      "  \"\"\"Entry point for launching an IPython kernel.\n"
     ]
    }
   ],
   "source": [
    "model.add(Dense(units=1,init='uniform',activation='sigmoid'))  #output layer"
   ]
  },
  {
   "cell_type": "code",
   "execution_count": 14,
   "metadata": {},
   "outputs": [],
   "source": [
    "model.compile(loss='binary_crossentropy',optimizer='adam',metrics=['accuracy'])"
   ]
  },
  {
   "cell_type": "code",
   "execution_count": 15,
   "metadata": {},
   "outputs": [
    {
     "name": "stdout",
     "output_type": "stream",
     "text": [
      "Epoch 1/25\n",
      "250/250 [==============================] - 228s 914ms/step - loss: 0.3909 - accuracy: 0.8266 - val_loss: 0.7791 - val_accuracy: 0.7586\n",
      "Epoch 2/25\n",
      "250/250 [==============================] - 138s 550ms/step - loss: 0.2371 - accuracy: 0.9043 - val_loss: 0.6997 - val_accuracy: 0.6870\n",
      "Epoch 3/25\n",
      "250/250 [==============================] - 137s 546ms/step - loss: 0.1915 - accuracy: 0.9239 - val_loss: 0.5501 - val_accuracy: 0.7896\n",
      "Epoch 4/25\n",
      "250/250 [==============================] - 138s 550ms/step - loss: 0.1682 - accuracy: 0.9326 - val_loss: 0.8536 - val_accuracy: 0.7337\n",
      "Epoch 5/25\n",
      "250/250 [==============================] - 139s 555ms/step - loss: 0.1760 - accuracy: 0.9295 - val_loss: 0.9176 - val_accuracy: 0.8084\n",
      "Epoch 6/25\n",
      "250/250 [==============================] - 139s 557ms/step - loss: 0.1620 - accuracy: 0.9402 - val_loss: 0.5297 - val_accuracy: 0.8191\n",
      "Epoch 7/25\n",
      "250/250 [==============================] - 140s 561ms/step - loss: 0.1470 - accuracy: 0.9440 - val_loss: 0.4598 - val_accuracy: 0.8473\n",
      "Epoch 8/25\n",
      "250/250 [==============================] - 151s 606ms/step - loss: 0.1500 - accuracy: 0.9429 - val_loss: 0.3823 - val_accuracy: 0.8100\n",
      "Epoch 9/25\n",
      "250/250 [==============================] - 149s 595ms/step - loss: 0.1517 - accuracy: 0.9411 - val_loss: 0.7107 - val_accuracy: 0.7805\n",
      "Epoch 10/25\n",
      "250/250 [==============================] - 143s 572ms/step - loss: 0.1345 - accuracy: 0.9490 - val_loss: 0.9243 - val_accuracy: 0.8293\n",
      "Epoch 11/25\n",
      "250/250 [==============================] - 152s 608ms/step - loss: 0.1361 - accuracy: 0.9459 - val_loss: 0.2349 - val_accuracy: 0.7978\n",
      "Epoch 12/25\n",
      "250/250 [==============================] - 151s 602ms/step - loss: 0.1359 - accuracy: 0.9492 - val_loss: 0.5977 - val_accuracy: 0.8054\n",
      "Epoch 13/25\n",
      "250/250 [==============================] - 139s 558ms/step - loss: 0.1226 - accuracy: 0.9526 - val_loss: 0.2755 - val_accuracy: 0.8364\n",
      "Epoch 14/25\n",
      "250/250 [==============================] - 147s 588ms/step - loss: 0.1253 - accuracy: 0.9519 - val_loss: 0.5946 - val_accuracy: 0.8069\n",
      "Epoch 15/25\n",
      "250/250 [==============================] - 145s 581ms/step - loss: 0.1175 - accuracy: 0.9571 - val_loss: 0.4854 - val_accuracy: 0.8333\n",
      "Epoch 16/25\n",
      "250/250 [==============================] - 140s 560ms/step - loss: 0.1138 - accuracy: 0.9561 - val_loss: 0.5376 - val_accuracy: 0.8069\n",
      "Epoch 17/25\n",
      "250/250 [==============================] - 180s 719ms/step - loss: 0.1188 - accuracy: 0.9532 - val_loss: 0.4320 - val_accuracy: 0.7932\n",
      "Epoch 18/25\n",
      "250/250 [==============================] - 328s 1s/step - loss: 0.1105 - accuracy: 0.9553 - val_loss: 0.9083 - val_accuracy: 0.7932\n",
      "Epoch 19/25\n",
      "250/250 [==============================] - 328s 1s/step - loss: 0.1173 - accuracy: 0.9541 - val_loss: 0.8855 - val_accuracy: 0.7922\n",
      "Epoch 20/25\n",
      "250/250 [==============================] - 337s 1s/step - loss: 0.1169 - accuracy: 0.9567 - val_loss: 1.6944 - val_accuracy: 0.7869\n",
      "Epoch 21/25\n",
      "250/250 [==============================] - 326s 1s/step - loss: 0.1083 - accuracy: 0.9586 - val_loss: 1.0578 - val_accuracy: 0.8110\n",
      "Epoch 22/25\n",
      "250/250 [==============================] - 329s 1s/step - loss: 0.1120 - accuracy: 0.9545 - val_loss: 0.8515 - val_accuracy: 0.7937\n",
      "Epoch 23/25\n",
      "250/250 [==============================] - 325s 1s/step - loss: 0.1027 - accuracy: 0.9605 - val_loss: 0.3421 - val_accuracy: 0.8171\n",
      "Epoch 24/25\n",
      "250/250 [==============================] - 325s 1s/step - loss: 0.1025 - accuracy: 0.9631 - val_loss: 0.2567 - val_accuracy: 0.7988\n",
      "Epoch 25/25\n",
      "250/250 [==============================] - 329s 1s/step - loss: 0.1017 - accuracy: 0.9614 - val_loss: 0.0754 - val_accuracy: 0.8308\n"
     ]
    },
    {
     "data": {
      "text/plain": [
       "<keras.callbacks.callbacks.History at 0x1d5c1aade80>"
      ]
     },
     "execution_count": 15,
     "metadata": {},
     "output_type": "execute_result"
    }
   ],
   "source": [
    "#fiting the model\n",
    "model.fit_generator(x_train,steps_per_epoch=250,epochs=25,validation_data=x_test,validation_steps=63)"
   ]
  },
  {
   "cell_type": "code",
   "execution_count": 16,
   "metadata": {},
   "outputs": [],
   "source": [
    "#save the model\n",
    "model.save(\"Pneumonia_Prediction_model.h5\")"
   ]
  },
  {
   "cell_type": "code",
   "execution_count": 17,
   "metadata": {},
   "outputs": [],
   "source": [
    "#testing the model\n",
    "from keras.models import load_model\n",
    "from keras.preprocessing import image"
   ]
  },
  {
   "cell_type": "code",
   "execution_count": 18,
   "metadata": {},
   "outputs": [],
   "source": [
    "model = load_model('Pneumonia_Prediction_model.h5')\n",
    "img = image.load_img(\"D://Python/SmartBrige/New folder/chest_xray/val/NORMAL/NORMAL2-IM-1427-0001.jpeg\",target_size=(64,64))"
   ]
  },
  {
   "cell_type": "markdown",
   "metadata": {},
   "source": [
    "the image on which we are testing is a normal scan image not suffering from Pneumonia"
   ]
  },
  {
   "cell_type": "code",
   "execution_count": 19,
   "metadata": {},
   "outputs": [],
   "source": [
    "x = image.img_to_array(img)\n",
    "x=np.expand_dims(x,axis=0)"
   ]
  },
  {
   "cell_type": "code",
   "execution_count": 20,
   "metadata": {},
   "outputs": [],
   "source": [
    "pred= model.predict_classes(x)"
   ]
  },
  {
   "cell_type": "code",
   "execution_count": 21,
   "metadata": {},
   "outputs": [
    {
     "data": {
      "text/plain": [
       "array([[0]])"
      ]
     },
     "execution_count": 21,
     "metadata": {},
     "output_type": "execute_result"
    }
   ],
   "source": [
    "pred"
   ]
  },
  {
   "cell_type": "code",
   "execution_count": null,
   "metadata": {},
   "outputs": [],
   "source": []
  }
 ],
 "metadata": {
  "kernelspec": {
   "display_name": "Python 3",
   "language": "python",
   "name": "python3"
  },
  "language_info": {
   "codemirror_mode": {
    "name": "ipython",
    "version": 3
   },
   "file_extension": ".py",
   "mimetype": "text/x-python",
   "name": "python",
   "nbconvert_exporter": "python",
   "pygments_lexer": "ipython3",
   "version": "3.6.5"
  }
 },
 "nbformat": 4,
 "nbformat_minor": 2
}
